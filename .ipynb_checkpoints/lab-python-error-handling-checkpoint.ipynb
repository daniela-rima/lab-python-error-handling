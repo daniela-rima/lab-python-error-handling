{
 "cells": [
  {
   "cell_type": "markdown",
   "id": "25d7736c-ba17-4aff-b6bb-66eba20fbf4e",
   "metadata": {},
   "source": [
    "# Lab | Error Handling"
   ]
  },
  {
   "cell_type": "markdown",
   "id": "bc99b386-7508-47a0-bcdb-d969deaf6c8b",
   "metadata": {},
   "source": [
    "## Exercise: Error Handling for Managing Customer Orders\n",
    "\n",
    "The implementation of your code for managing customer orders assumes that the user will always enter a valid input. \n",
    "\n",
    "For example, we could modify the `initialize_inventory` function to include error handling.\n",
    "   - If the user enters an invalid quantity (e.g., a negative value or a non-numeric value), display an error message and ask them to re-enter the quantity for that product.\n",
    "   - Use a try-except block to handle the error and continue prompting the user until a valid quantity is entered.\n",
    "\n",
    "```python\n",
    "# Step 1: Define the function for initializing the inventory with error handling\n",
    "def initialize_inventory(products):\n",
    "    inventory = {}\n",
    "    for product in products:\n",
    "        valid_quantity = False\n",
    "        while not valid_quantity:\n",
    "            try:\n",
    "                quantity = int(input(f\"Enter the quantity of {product}s available: \"))\n",
    "                if quantity < 0:\n",
    "                    raise ValueError(\"Invalid quantity! Please enter a non-negative value.\")\n",
    "                valid_quantity = True\n",
    "            except ValueError as error:\n",
    "                print(f\"Error: {error}\")\n",
    "        inventory[product] = quantity\n",
    "    return inventory\n",
    "\n",
    "# Or, in another way:\n",
    "\n",
    "def initialize_inventory(products):\n",
    "    inventory = {}\n",
    "    for product in products:\n",
    "        valid_input = False\n",
    "        while not valid_input:\n",
    "            try:\n",
    "                quantity = int(input(f\"Enter the quantity of {product}s available: \"))\n",
    "                if quantity >= 0:\n",
    "                    inventory[product] = quantity\n",
    "                    valid_input = True\n",
    "                else:\n",
    "                    print(\"Quantity cannot be negative. Please enter a valid quantity.\")\n",
    "            except ValueError:\n",
    "                print(\"Invalid input. Please enter a valid quantity.\")\n",
    "    return inventory\n",
    "```\n",
    "\n",
    "Let's enhance your code by implementing error handling to handle invalid inputs.\n",
    "\n",
    "Follow the steps below to complete the exercise:\n",
    "\n",
    "2. Modify the `calculate_total_price` function to include error handling.\n",
    "   - If the user enters an invalid price (e.g., a negative value or a non-numeric value), display an error message and ask them to re-enter the price for that product.\n",
    "   - Use a try-except block to handle the error and continue prompting the user until a valid price is entered.\n",
    "\n",
    "3. Modify the `get_customer_orders` function to include error handling.\n",
    "   - If the user enters an invalid number of orders (e.g., a negative value or a non-numeric value), display an error message and ask them to re-enter the number of orders.\n",
    "   - If the user enters an invalid product name (e.g., a product name that is not in the inventory), or that doesn't have stock available, display an error message and ask them to re-enter the product name. *Hint: you will need to pass inventory as a parameter*\n",
    "   - Use a try-except block to handle the error and continue prompting the user until a valid product name is entered.\n",
    "\n",
    "4. Test your code by running the program and deliberately entering invalid quantities and product names. Make sure the error handling mechanism works as expected.\n"
   ]
  },
  {
   "cell_type": "code",
   "execution_count": 1,
   "id": "aef605c8",
   "metadata": {},
   "outputs": [],
   "source": [
    "#Example given:\n",
    "\n",
    "products = [\"t-shirt\", \"mug\", \"hat\", \"book\", \"keychain\"]\n",
    "\n",
    "def initialize_inventory(products):\n",
    "    inventory = {}\n",
    "    for product in products:\n",
    "        valid_quantity = False\n",
    "        while not valid_quantity:\n",
    "            try:\n",
    "                quantity = int(input(f\"Enter the quantity of {product} available: \"))\n",
    "                if quantity < 0:\n",
    "                    raise ValueError(\"Invalid quantity! Please enter a non-negative value.\")\n",
    "                valid_quantity = True\n",
    "            except ValueError as error:\n",
    "                print(f\"Error: {error}\")\n",
    "        inventory[product] = quantity\n",
    "    return inventory"
   ]
  },
  {
   "cell_type": "code",
   "execution_count": 2,
   "id": "116ef59e",
   "metadata": {
    "scrolled": true
   },
   "outputs": [
    {
     "name": "stdout",
     "output_type": "stream",
     "text": [
      "Enter the quantity of t-shirt available: 5\n",
      "Enter the quantity of mug available: 5\n",
      "Enter the quantity of hat available: 5\n",
      "Enter the quantity of book available: 5\n",
      "Enter the quantity of keychain available: 5\n",
      "{'t-shirt': 5, 'mug': 5, 'hat': 5, 'book': 5, 'keychain': 5}\n"
     ]
    }
   ],
   "source": [
    "inventory = initialize_inventory(products)\n",
    "print(inventory)"
   ]
  },
  {
   "cell_type": "code",
   "execution_count": 14,
   "id": "7e1bb135",
   "metadata": {},
   "outputs": [],
   "source": [
    "def get_customer_orders(products, inventory):\n",
    "    customer_orders = []\n",
    "    number_of_orders = int(input(f\"Enter the number of customer orders: \"))\n",
    "    for _ in range(number_of_orders):\n",
    "        while True:\n",
    "            product = input(\"Enter the name of a product that a customer wants to order: \")\n",
    "            if product in products and inventory.get(product, 0) > 0:\n",
    "                customer_orders.append(product)\n",
    "                break\n",
    "            elif product not in inventory:\n",
    "                print(f\"{product} is not in inventory. Select from t-shirt, mug, hat, book or keychain.\")\n",
    "                continue\n",
    "            else:\n",
    "                print(\"Invalid product or product out of stock. Please enter a valid product.\")\n",
    "\n",
    "    return customer_orders"
   ]
  },
  {
   "cell_type": "code",
   "execution_count": 15,
   "id": "9329ab5e",
   "metadata": {},
   "outputs": [
    {
     "name": "stdout",
     "output_type": "stream",
     "text": [
      "Enter the number of customer orders: 3\n",
      "Enter the name of a product that a customer wants to order: book\n",
      "Enter the name of a product that a customer wants to order: hat\n",
      "Enter the name of a product that a customer wants to order: mug\n",
      "['book', 'hat', 'mug']\n"
     ]
    }
   ],
   "source": [
    "customer_orders = get_customer_orders(products, inventory)\n",
    "print(customer_orders)"
   ]
  },
  {
   "cell_type": "code",
   "execution_count": 16,
   "id": "0b58ee32",
   "metadata": {},
   "outputs": [],
   "source": [
    "#Modify the get_customer_orders function to include error handling.\n",
    "#def get_customer_orders(inventory): \n",
    "    #customer_order = set()\n",
    "    \n",
    "    #try:\n",
    "        #number_orders = int(input(f\"Enter the number of customer orders: \"))\n",
    "        #if number_orders <= 0:\n",
    "            #print(\"Error! Please enter a positive integer.\")\n",
    "    #except:\n",
    "       # print(\"Enter a valid number.\")\n",
    "                \n",
    "    #for number in range(number_orders):\n",
    "       # name_product = input(f\"Enter the name of a product that a customer wants to order: \")\n",
    "       # if inventory[customer_order] <= 0:\n",
    "          #  print(\"Sorry, the product is out of stock\")\n",
    "      #  elif name_product not in inventory:\n",
    "           # print(\"Error! Product not found. Please enter a valid product.\")\n",
    "    #customer_order.add(product)\n",
    "  #  return customer_order"
   ]
  },
  {
   "cell_type": "code",
   "execution_count": 17,
   "id": "6cd533c8",
   "metadata": {},
   "outputs": [],
   "source": [
    "##### Modify the calculate_total_price function to include error handling\n",
    "\n",
    "def calculate_total_price(customer_order, inventory):\n",
    "    total_price = 0\n",
    "    for product in customer_order:\n",
    "        if product in inventory:\n",
    "            try:\n",
    "                price_input = input(f\"Enter the price of {product}: \")\n",
    "                price = int(price_input) if price_input.isdigit() else float(price_input)\n",
    "            except:\n",
    "                print(\"Error! Please enter a valid number.\")\n",
    "                break\n",
    "        total_price += price\n",
    "    return total_price"
   ]
  },
  {
   "cell_type": "code",
   "execution_count": 18,
   "id": "cdfeaf92",
   "metadata": {},
   "outputs": [
    {
     "name": "stdout",
     "output_type": "stream",
     "text": [
      "Enter the price of book: 5\n",
      "Enter the price of hat: 4\n",
      "Enter the price of mug: 3\n"
     ]
    },
    {
     "data": {
      "text/plain": [
       "12"
      ]
     },
     "execution_count": 18,
     "metadata": {},
     "output_type": "execute_result"
    }
   ],
   "source": [
    "calculate_total_price(customer_orders, inventory)"
   ]
  }
 ],
 "metadata": {
  "kernelspec": {
   "display_name": "Python 3 (ipykernel)",
   "language": "python",
   "name": "python3"
  },
  "language_info": {
   "codemirror_mode": {
    "name": "ipython",
    "version": 3
   },
   "file_extension": ".py",
   "mimetype": "text/x-python",
   "name": "python",
   "nbconvert_exporter": "python",
   "pygments_lexer": "ipython3",
   "version": "3.11.7"
  }
 },
 "nbformat": 4,
 "nbformat_minor": 5
}
